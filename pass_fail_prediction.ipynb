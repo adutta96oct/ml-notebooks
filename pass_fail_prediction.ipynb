{
  "nbformat": 4,
  "nbformat_minor": 0,
  "metadata": {
    "colab": {
      "name": "pass-fail-prediction.ipynb",
      "provenance": [],
      "authorship_tag": "ABX9TyOAlhVyG8n7xBG3ZlQLMhAU",
      "include_colab_link": true
    },
    "kernelspec": {
      "name": "python3",
      "display_name": "Python 3"
    }
  },
  "cells": [
    {
      "cell_type": "markdown",
      "metadata": {
        "id": "view-in-github",
        "colab_type": "text"
      },
      "source": [
        "<a href=\"https://colab.research.google.com/github/adutta96oct/ml-notebooks/blob/master/pass_fail_prediction.ipynb\" target=\"_parent\"><img src=\"https://colab.research.google.com/assets/colab-badge.svg\" alt=\"Open In Colab\"/></a>"
      ]
    },
    {
      "cell_type": "markdown",
      "metadata": {
        "id": "xW-ele1hl8qs",
        "colab_type": "text"
      },
      "source": [
        "<h2 align=\"center\"> Logistic Regression </h2>\n"
      ]
    },
    {
      "cell_type": "code",
      "metadata": {
        "id": "fSwutTQsU9DG",
        "colab_type": "code",
        "colab": {
          "base_uri": "https://localhost:8080/",
          "height": 72
        },
        "outputId": "9dbfbff0-7658-4085-9bba-9033b48d60ba"
      },
      "source": [
        "#All required packages\n",
        "import pandas as pd\n",
        "import numpy as np\n",
        "import matplotlib.pyplot as plt\n",
        "import seaborn as sns\n",
        "plt.style.use(\"ggplot\")\n",
        "%matplotlib inline"
      ],
      "execution_count": 1,
      "outputs": [
        {
          "output_type": "stream",
          "text": [
            "/usr/local/lib/python3.6/dist-packages/statsmodels/tools/_testing.py:19: FutureWarning: pandas.util.testing is deprecated. Use the functions in the public API at pandas.testing instead.\n",
            "  import pandas.util.testing as tm\n"
          ],
          "name": "stderr"
        }
      ]
    },
    {
      "cell_type": "code",
      "metadata": {
        "id": "mKNTW1mnRFRO",
        "colab_type": "code",
        "colab": {}
      },
      "source": [
        "from pylab import rcParams\n",
        "rcParams['figure.figsize'] = 12, 8"
      ],
      "execution_count": 2,
      "outputs": []
    },
    {
      "cell_type": "code",
      "metadata": {
        "id": "f-Tv0P8RX92_",
        "colab_type": "code",
        "colab": {
          "base_uri": "https://localhost:8080/",
          "height": 197
        },
        "outputId": "b703a60b-731e-4191-f9fb-0f82a62b11e6"
      },
      "source": [
        "data = pd.read_csv(\"/content/DMV_Written_Tests.csv\")\n",
        "data.head()"
      ],
      "execution_count": 3,
      "outputs": [
        {
          "output_type": "execute_result",
          "data": {
            "text/html": [
              "<div>\n",
              "<style scoped>\n",
              "    .dataframe tbody tr th:only-of-type {\n",
              "        vertical-align: middle;\n",
              "    }\n",
              "\n",
              "    .dataframe tbody tr th {\n",
              "        vertical-align: top;\n",
              "    }\n",
              "\n",
              "    .dataframe thead th {\n",
              "        text-align: right;\n",
              "    }\n",
              "</style>\n",
              "<table border=\"1\" class=\"dataframe\">\n",
              "  <thead>\n",
              "    <tr style=\"text-align: right;\">\n",
              "      <th></th>\n",
              "      <th>DMV_Test_1</th>\n",
              "      <th>DMV_Test_2</th>\n",
              "      <th>Results</th>\n",
              "    </tr>\n",
              "  </thead>\n",
              "  <tbody>\n",
              "    <tr>\n",
              "      <th>0</th>\n",
              "      <td>34.623660</td>\n",
              "      <td>78.024693</td>\n",
              "      <td>0</td>\n",
              "    </tr>\n",
              "    <tr>\n",
              "      <th>1</th>\n",
              "      <td>30.286711</td>\n",
              "      <td>43.894998</td>\n",
              "      <td>0</td>\n",
              "    </tr>\n",
              "    <tr>\n",
              "      <th>2</th>\n",
              "      <td>35.847409</td>\n",
              "      <td>72.902198</td>\n",
              "      <td>0</td>\n",
              "    </tr>\n",
              "    <tr>\n",
              "      <th>3</th>\n",
              "      <td>60.182599</td>\n",
              "      <td>86.308552</td>\n",
              "      <td>1</td>\n",
              "    </tr>\n",
              "    <tr>\n",
              "      <th>4</th>\n",
              "      <td>79.032736</td>\n",
              "      <td>75.344376</td>\n",
              "      <td>1</td>\n",
              "    </tr>\n",
              "  </tbody>\n",
              "</table>\n",
              "</div>"
            ],
            "text/plain": [
              "   DMV_Test_1  DMV_Test_2  Results\n",
              "0   34.623660   78.024693        0\n",
              "1   30.286711   43.894998        0\n",
              "2   35.847409   72.902198        0\n",
              "3   60.182599   86.308552        1\n",
              "4   79.032736   75.344376        1"
            ]
          },
          "metadata": {
            "tags": []
          },
          "execution_count": 3
        }
      ]
    },
    {
      "cell_type": "code",
      "metadata": {
        "id": "Dr09k4yvdjeJ",
        "colab_type": "code",
        "colab": {}
      },
      "source": [
        "scores = data[[\"DMV_Test_1\", \"DMV_Test_2\"]].values\n",
        "results = data[[\"Results\"]].values"
      ],
      "execution_count": 4,
      "outputs": []
    },
    {
      "cell_type": "code",
      "metadata": {
        "id": "3OO8pZCJhpgj",
        "colab_type": "code",
        "colab": {
          "base_uri": "https://localhost:8080/",
          "height": 500
        },
        "outputId": "b18135c8-27a4-46fe-f666-f68de47ab95f"
      },
      "source": [
        "passed = (results == 1).reshape(100,1)\n",
        "failed = (results == 0).reshape(100,1)\n",
        "passed\n",
        "ax = sns.scatterplot(x=scores[passed[:,0],0],\n",
        "                     y=scores[passed[:,0],1],\n",
        "                     color=\"green\",\n",
        "                     marker=\"^\",\n",
        "                     s=60)\n",
        "sns.scatterplot(x=scores[failed[:,0],0],\n",
        "                y=scores[failed[:,0],1],\n",
        "                color=\"red\",\n",
        "                marker=\"x\",\n",
        "                s=60)\n",
        "ax.legend([\"Passed\", \"Failed\"])\n",
        "ax.set(xlabel=\"Test 1 scores\", ylabel= \"Test 2 scores\")\n",
        "plt.show()"
      ],
      "execution_count": 5,
      "outputs": [
        {
          "output_type": "display_data",
          "data": {
            "image/png": "[encoded data removed]",
            "text/plain": [
              "<Figure size 864x576 with 1 Axes>"
            ]
          },
          "metadata": {
            "tags": [],
            "needs_background": "light"
          }
        }
      ]
    },
    {
      "cell_type": "markdown",
      "metadata": {
        "id": "nd-afx1hoyMs",
        "colab_type": "text"
      },
      "source": [
        "Define the sigmoid function $\\sigma(z)$\n",
        "\n",
        "$$\\sigma(z) = \\frac{1}{1+e^{-z}}$$"
      ]
    },
    {
      "cell_type": "code",
      "metadata": {
        "id": "NT--aDY8o5F9",
        "colab_type": "code",
        "colab": {}
      },
      "source": [
        "def logistic_function(z):\n",
        "  return 1/(1+np.exp(-z))"
      ],
      "execution_count": 6,
      "outputs": []
    },
    {
      "cell_type": "markdown",
      "metadata": {
        "id": "Zp4cdYsardEW",
        "colab_type": "text"
      },
      "source": [
        "<b>Define cost function:</b> \n",
        "\n",
        "The objective of logistic regression is to minimize the cost function\n",
        "\n",
        "$$J(\\theta) = -\\frac{1}{m} \\sum_{i=1}^{m} [ y^{(i)}log(h_{\\theta}(x^{(i)})) + (1 - y^{(i)})log(1 - (h_{\\theta}(x^{(i)}))]$$\n",
        "\n",
        "where the gradient of the cost function is given by\n",
        "\n",
        "$$ \\frac{\\partial J(\\theta)}{\\partial \\theta_j} = \\frac{1}{m} \\sum_{i=1}^{m} (h_{\\theta}(x^{(i)}) - y^{(i)})x_j^{(i)}$$"
      ]
    },
    {
      "cell_type": "code",
      "metadata": {
        "id": "L0VZVm-ajUF3",
        "colab_type": "code",
        "colab": {}
      },
      "source": [
        "def compute_cost(theta,x,y):\n",
        "    m = len(y)\n",
        "    y_pred = logistic_function(np.dot(x,theta))\n",
        "    error = (y * np.log(y_pred)) + (1-y)*np.log(1 - y_pred)\n",
        "    cost = -1/m * sum(error)\n",
        "    gradient = 1/m * np.dot(x.transpose(),(y_pred - y))\n",
        "    return cost[0], gradient"
      ],
      "execution_count": 7,
      "outputs": []
    },
    {
      "cell_type": "markdown",
      "metadata": {
        "id": "nnZQ55DNja6d",
        "colab_type": "text"
      },
      "source": [
        "**Cost and Gradient at Initialization**"
      ]
    },
    {
      "cell_type": "code",
      "metadata": {
        "id": "y4ALUKKFjlVX",
        "colab_type": "code",
        "colab": {}
      },
      "source": [
        "mean_scores = np.mean(scores, axis=0)\n",
        "std_scores = np.std(scores, axis=0)\n",
        "scores = (scores - mean_scores)/std_scores\n",
        "\n",
        "rows = scores.shape[0]\n",
        "cols = scores.shape[1]\n",
        "\n",
        "X = np.append(np.ones((rows,1)), scores, axis=1)\n",
        "y = results.reshape(rows,1)\n",
        "\n",
        "theta_init = np.zeros((cols + 1,1))\n",
        "cost, gradient = compute_cost(theta_init,X,y)"
      ],
      "execution_count": 8,
      "outputs": []
    },
    {
      "cell_type": "markdown",
      "metadata": {
        "id": "7E-sG1wxjoHU",
        "colab_type": "text"
      },
      "source": [
        "**Gradient Descent**"
      ]
    },
    {
      "cell_type": "markdown",
      "metadata": {
        "id": "2sO4y-CIj1UK",
        "colab_type": "text"
      },
      "source": [
        "Minimize the cost function $J(\\theta)$ by updating the below equation and repeat until convergence\n",
        "$\\theta_j := \\theta_j - \\alpha \\frac{\\partial J(\\theta)}{\\partial \\theta_j}$ (simultaneously update $\\theta_j$ for all $j$)"
      ]
    },
    {
      "cell_type": "code",
      "metadata": {
        "id": "SJCJyX0Ij7aD",
        "colab_type": "code",
        "colab": {}
      },
      "source": [
        "def gradient_descent(x,y,theta, alpha, iterations):\n",
        "    costs = []\n",
        "    for i in range(iterations):\n",
        "        cost, gradient = compute_cost(theta,x,y)\n",
        "        theta -=(alpha*gradient)\n",
        "        costs.append(cost)\n",
        "    return theta, costs"
      ],
      "execution_count": 9,
      "outputs": []
    },
    {
      "cell_type": "code",
      "metadata": {
        "id": "Z0tblspdkIyE",
        "colab_type": "code",
        "colab": {}
      },
      "source": [
        "theta, costs = gradient_descent(X,y,theta_init,1, 200)"
      ],
      "execution_count": 10,
      "outputs": []
    },
    {
      "cell_type": "code",
      "metadata": {
        "id": "m1Y3zG7lkMYh",
        "colab_type": "code",
        "colab": {
          "base_uri": "https://localhost:8080/",
          "height": 107
        },
        "outputId": "70595de3-ca87-42a1-a8c4-e3537aa184ec"
      },
      "source": [
        "print('Theta after running gradient descent: ',theta)\n",
        "print(\"Resulting cost: \",costs)"
      ],
      "execution_count": 11,
      "outputs": [
        {
          "output_type": "stream",
          "text": [
            "Theta after running gradient descent:  [[1.50850586]\n",
            " [3.5468762 ]\n",
            " [3.29383709]]\n",
            "Resulting cost:  [0.693147180559946, 0.559403242545655, 0.4805876648533871, 0.43046342235936136, 0.39605647005498307, 0.3709669278894235, 0.35181143821554683, 0.3366625823479169, 0.3243484792498155, 0.31411698799771753, 0.3054632898746155, 0.2980357306412133, 0.29158158307561594, 0.2859143408821499, 0.2808932044202074, 0.2764097679797487, 0.2723791206465763, 0.2687337409240406, 0.2654192108626502, 0.2623911455046634, 0.2596129525785907, 0.2570541709629098, 0.2546892200293839, 0.25249644553195266, 0.2504573827607223, 0.24855618107480806, 0.24677914982076546, 0.2451143966177867, 0.24355153668345655, 0.24208145734126266, 0.24069612578706717, 0.23938843105923613, 0.2381520532694504, 0.23698135472344695, 0.2358712887425202, 0.23481732289271778, 0.23381537401406843, 0.2328617529706419, 0.23195311745280278, 0.23108643148423902, 0.23025893053940155, 0.2294680913776006, 0.2287116058600059, 0.2279873581441674, 0.22729340475420326, 0.22662795710875627, 0.22598936615723075, 0.2253761088308248, 0.22478677606094832, 0.22422006215565937, 0.2236747553563192, 0.22314972942295025, 0.22264393611874897, 0.22215639848264623, 0.2216862047943201, 0.22123250314918907, 0.22079449657201344, 0.22037143860719213, 0.21996262933189248, 0.21956741174504227, 0.21918516849112554, 0.21881531888279848, 0.2184573161907334, 0.218110645172875, 0.2177748198185831, 0.21744938128598004, 0.2171338960133081, 0.21682795398725663, 0.21653116715312212, 0.21624316795331638, 0.2159636079821895, 0.21569215674642495, 0.21542850052138052, 0.21517234129475238, 0.2149233957898178, 0.21468139456129284, 0.2144460811575306, 0.21421721134340815, 0.21399455237879092, 0.21377788234795836, 0.21356698953580247, 0.21336167184701565, 0.21316173626481663, 0.2129669983460899, 0.21277728175009017, 0.212592417798118, 0.2124122450617984, 0.2122366089778061, 0.2120653614870582, 0.21189836069657036, 0.21173547056231953, 0.2115765605915978, 0.21142150556346198, 0.2112701852660019, 0.21112248424924862, 0.2109782915926423, 0.21083750068605983, 0.2107000090234843, 0.21056571800846705, 0.21043453277059823, 0.21030636199226163, 0.21018111774500456, 0.21005871533490036, 0.20993907315633129, 0.20982211255365607, 0.20970775769026923, 0.20959593542459393, 0.20948657519257793, 0.20937960889630117, 0.20927497079831966, 0.2091725974214075, 0.20907242745337354, 0.2089744016566537, 0.20887846278240252, 0.2087845554888218, 0.20869262626348462, 0.2086026233494264, 0.20851449667479152, 0.2084281977858371, 0.20834367978310597, 0.20826089726059682, 0.2081798062477665, 0.2081003641542112, 0.20802252971688492, 0.20794626294971566, 0.20787152509549825, 0.20779827857993932, 0.20772648696774607, 0.20765611492065167, 0.2075871281572778, 0.20751949341474238, 0.20745317841192268, 0.20738815181429288, 0.2073243832002552, 0.20726184302889294, 0.20720050260907613, 0.20714033406985097, 0.20708131033205476, 0.20702340508109474, 0.20696659274083729, 0.20691084844855318, 0.20685614803087124, 0.20680246798069127, 0.20674978543501457, 0.2066980781536457, 0.20664732449873038, 0.2065975034150885, 0.20654859441130582, 0.20650057754155451, 0.2064534333881041, 0.20640714304449778, 0.2063616880993617, 0.20631705062081984, 0.2062732131414893, 0.20623015864403157, 0.2061878705472313, 0.20614633269258864, 0.20610552933139337, 0.20606544511226899, 0.2060260650691627, 0.20598737460976313, 0.20594935950432935, 0.20591200587491368, 0.20587530018496217, 0.20583922922927728, 0.2058037801243283, 0.20576894029889659, 0.20573469748503964, 0.2057010397093644, 0.2056679552845955, 0.20563543280142813, 0.20560346112065325, 0.2055720293655455, 0.20554112691450444, 0.20551074339393594, 0.20548086867137041, 0.20545149284880176, 0.2054226062562461, 0.2053941994455056, 0.20536626318413428, 0.2053387884495954, 0.20531176642360585, 0.20528518848665747, 0.2052590462127132, 0.20523333136406702, 0.2052080358863652, 0.2051831519037811, 0.20515867171433982, 0.2051345877853853, 0.20511089274918598, 0.20508757939867425, 0.2050646406833154, 0.2050420697050989, 0.20501985971465214, 0.2049980041074683, 0.2049764964202466, 0.20495533032734176, 0.20493449963731525, 0.20491399828958998, 0.2048938203512014]\n"
          ],
          "name": "stdout"
        }
      ]
    },
    {
      "cell_type": "markdown",
      "metadata": {
        "id": "6twpEwRekOlf",
        "colab_type": "text"
      },
      "source": [
        "**Plotting Convergence of $J(\\theta)$**"
      ]
    },
    {
      "cell_type": "code",
      "metadata": {
        "id": "os43XLbAktVF",
        "colab_type": "code",
        "colab": {
          "base_uri": "https://localhost:8080/",
          "height": 534
        },
        "outputId": "e19e8484-00fb-4cbb-f57a-5631ef1ad1f3"
      },
      "source": [
        "    plt.plot(costs)\n",
        "    plt.xlabel(\"Iterations\")\n",
        "    plt.ylabel(\"$J(\\Theta)$\")\n",
        "    plt.title(\"Values of cost Function over Iterations of Gradient Descent\")"
      ],
      "execution_count": 12,
      "outputs": [
        {
          "output_type": "execute_result",
          "data": {
            "text/plain": [
              "Text(0.5, 1.0, 'Values of cost Function over Iterations of Gradient Descent')"
            ]
          },
          "metadata": {
            "tags": []
          },
          "execution_count": 12
        },
        {
          "output_type": "display_data",
          "data": {
            "image/png": "[encoded data removed]",
            "text/plain": [
              "<Figure size 864x576 with 1 Axes>"
            ]
          },
          "metadata": {
            "tags": [],
            "needs_background": "light"
          }
        }
      ]
    },
    {
      "cell_type": "markdown",
      "metadata": {
        "id": "9q66ARyQlDF-",
        "colab_type": "text"
      },
      "source": [
        "**Plotting the decision boundary**"
      ]
    },
    {
      "cell_type": "markdown",
      "metadata": {
        "id": "5SXFsGCZlPK0",
        "colab_type": "text"
      },
      "source": [
        "$h_\\theta(x) = \\sigma(z)$, where $\\sigma$ is the logistic sigmoid function and $z = \\theta^Tx$\n",
        "\n",
        "When $h_\\theta(x) \\geq 0.5$ the model predicts class \"1\":\n",
        "\n",
        "$\\implies \\sigma(\\theta^Tx) \\geq 0.5$\n",
        "\n",
        "$\\implies \\theta^Tx \\geq 0$ predict class \"1\" \n",
        "\n",
        "Hence, $\\theta_1 + \\theta_2x_2 + \\theta_3x_3 = 0$ is the equation for the decision boundary, giving us \n",
        "\n",
        "$ x_3 = \\frac{-(\\theta_1+\\theta_2x_2)}{\\theta_3}$"
      ]
    },
    {
      "cell_type": "code",
      "metadata": {
        "id": "frM7LjKblT51",
        "colab_type": "code",
        "colab": {
          "base_uri": "https://localhost:8080/",
          "height": 500
        },
        "outputId": "948f9270-2d51-4841-94d3-5549ba17744a"
      },
      "source": [
        "ax = sns.scatterplot(x = X[passed[:,0],1],\n",
        "                    y = X[passed[:,0],2],\n",
        "                    marker = \"^\",\n",
        "                    color = \"green\",\n",
        "                    s=60)\n",
        "sns.scatterplot(x = X[failed[:,0],1],\n",
        "               y = X[failed[:,0],2],\n",
        "               color = 'red',\n",
        "               s=60)\n",
        "\n",
        "ax.legend(['Passed', 'Failed'])\n",
        "ax.set(xlabel=\"DMV Written Test 1 scores\", ylabel= \"DMVWritten Test 2 scores\")\n",
        "\n",
        "x_boundary = np.array([np.min(X[:,1]),np.max(X[:,1])])\n",
        "y_boundary = -(theta[0] + theta[1] * x_boundary)/theta[2]\n",
        "\n",
        "sns.lineplot(x=x_boundary, y=y_boundary, color='blue', )\n",
        "plt.show()"
      ],
      "execution_count": 13,
      "outputs": [
        {
          "output_type": "display_data",
          "data": {
            "image/png": "[encoded data removed]",
            "text/plain": [
              "<Figure size 864x576 with 1 Axes>"
            ]
          },
          "metadata": {
            "tags": [],
            "needs_background": "light"
          }
        }
      ]
    },
    {
      "cell_type": "markdown",
      "metadata": {
        "id": "PRdcFKeXlgzk",
        "colab_type": "text"
      },
      "source": [
        "**Predictions using the optimized $\\theta$ values**\n"
      ]
    },
    {
      "cell_type": "markdown",
      "metadata": {
        "id": "CKn_rRCmln_t",
        "colab_type": "text"
      },
      "source": [
        "$h_\\theta(x) = x\\theta$"
      ]
    },
    {
      "cell_type": "code",
      "metadata": {
        "id": "2S4OG8Q4lvjM",
        "colab_type": "code",
        "colab": {}
      },
      "source": [
        "def predict(theta, x):\n",
        "    results = x.dot(theta)\n",
        "    return results > 0"
      ],
      "execution_count": 14,
      "outputs": []
    },
    {
      "cell_type": "code",
      "metadata": {
        "id": "EiQ47rc9l0Dd",
        "colab_type": "code",
        "colab": {
          "base_uri": "https://localhost:8080/",
          "height": 34
        },
        "outputId": "15dfc5b3-43c3-487e-df5e-65bb9b608ae8"
      },
      "source": [
        "p = predict(theta, X)\n",
        "print(\"Training Accuracy: \", sum(p==y)[0],\"%\")"
      ],
      "execution_count": 15,
      "outputs": [
        {
          "output_type": "stream",
          "text": [
            "Training Accuracy:  89 %\n"
          ],
          "name": "stdout"
        }
      ]
    },
    {
      "cell_type": "code",
      "metadata": {
        "id": "cucJUYcWl4VZ",
        "colab_type": "code",
        "colab": {
          "base_uri": "https://localhost:8080/",
          "height": 34
        },
        "outputId": "329c5ce9-1a58-4102-9445-07cddf38a6a5"
      },
      "source": [
        "test = np.array([50,70])\n",
        "test = (test - mean_scores) / std_scores\n",
        "test = np.append(np.ones(1),test)\n",
        "probability = logistic_function(test.dot(theta))\n",
        "print(\"A person who scores 50 and 70 on their DMV written tests have a\", \n",
        "     np.round(probability[0], 2), \"probability of passing\")"
      ],
      "execution_count": 16,
      "outputs": [
        {
          "output_type": "stream",
          "text": [
            "A person who scores 50 and 70 on their DMV written tests have a 0.34 probability of passing\n"
          ],
          "name": "stdout"
        }
      ]
    }
  ]
}